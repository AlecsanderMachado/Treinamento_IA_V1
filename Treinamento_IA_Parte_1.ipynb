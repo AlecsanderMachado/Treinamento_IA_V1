{
  "nbformat": 4,
  "nbformat_minor": 0,
  "metadata": {
    "colab": {
      "provenance": [],
      "toc_visible": true,
      "authorship_tag": "ABX9TyNAwlGskCTOA1SNoyW/ZgUR",
      "include_colab_link": true
    },
    "kernelspec": {
      "name": "python3",
      "display_name": "Python 3"
    },
    "language_info": {
      "name": "python"
    }
  },
  "cells": [
    {
      "cell_type": "markdown",
      "metadata": {
        "id": "view-in-github",
        "colab_type": "text"
      },
      "source": [
        "<a href=\"https://colab.research.google.com/github/AlecsanderMachado/Treinamento_IA_V1/blob/main/Treinamento_IA_Parte_1.ipynb\" target=\"_parent\"><img src=\"https://colab.research.google.com/assets/colab-badge.svg\" alt=\"Open In Colab\"/></a>"
      ]
    },
    {
      "cell_type": "code",
      "execution_count": 1,
      "metadata": {
        "id": "BkV2pSE9UeQF"
      },
      "outputs": [],
      "source": []
    },
    {
      "cell_type": "markdown",
      "source": [
        "Primeiro crio o ambiente do python. Essa interface é muito esquisita"
      ],
      "metadata": {
        "id": "mcJHqfiAUl7E"
      }
    },
    {
      "cell_type": "code",
      "source": [
        "!pip install -q -U google-generativeai"
      ],
      "metadata": {
        "id": "32x14b3KUppj"
      },
      "execution_count": 2,
      "outputs": []
    },
    {
      "cell_type": "markdown",
      "source": [
        "Agora vou importar os pacotes e preparar o ambiente"
      ],
      "metadata": {
        "id": "ZX3Q4ePRU-CT"
      }
    },
    {
      "cell_type": "code",
      "source": [
        "import pathlib\n",
        "import textwrap\n",
        "\n",
        "from google.colab import userdata\n",
        "\n",
        "import google.generativeai as genai\n",
        "\n",
        "model = genai.GenerativeModel('gemini-pro')\n",
        "\n",
        "api_key = userdata.get('SECRET_KEY')\n",
        "\n",
        "genai.configure(api_key=api_key)\n",
        "\n",
        "\n"
      ],
      "metadata": {
        "id": "XdZTjDyXVEkc"
      },
      "execution_count": 1,
      "outputs": []
    },
    {
      "cell_type": "markdown",
      "source": [
        "Não rodei a linha abaixo que estava no exemplo original\n",
        "\n",
        "response = model.generate_content(\"What is the meaning of life?\")\n"
      ],
      "metadata": {
        "id": "QMXVKxnuVwIF"
      }
    },
    {
      "cell_type": "code",
      "source": [
        "for m in genai.list_models():\n",
        "  if 'generateContent' in m.supported_generation_methods:\n",
        "    print(m.name)\n",
        "    print(m.description)"
      ],
      "metadata": {
        "colab": {
          "base_uri": "https://localhost:8080/",
          "height": 260
        },
        "id": "Ql4dPyDFVmEE",
        "outputId": "4fd172d1-89af-4640-8b67-9915124f01d8"
      },
      "execution_count": 2,
      "outputs": [
        {
          "output_type": "stream",
          "name": "stdout",
          "text": [
            "models/gemini-1.0-pro\n",
            "The best model for scaling across a wide range of tasks\n",
            "models/gemini-1.0-pro-001\n",
            "The best model for scaling across a wide range of tasks. This is a stable model that supports tuning.\n",
            "models/gemini-1.0-pro-latest\n",
            "The best model for scaling across a wide range of tasks. This is the latest model.\n",
            "models/gemini-1.0-pro-vision-latest\n",
            "The best image understanding model to handle a broad range of applications\n",
            "models/gemini-1.5-pro-latest\n",
            "Mid-size multimodal model that supports up to 1 million tokens\n",
            "models/gemini-pro\n",
            "The best model for scaling across a wide range of tasks\n",
            "models/gemini-pro-vision\n",
            "The best image understanding model to handle a broad range of applications\n"
          ]
        }
      ]
    },
    {
      "cell_type": "markdown",
      "source": [
        "Agora vou colocar parâmetros"
      ],
      "metadata": {
        "id": "psz6py5mXlZV"
      }
    },
    {
      "cell_type": "code",
      "source": [
        "generation_config = {\n",
        "    \"candidate_count\": 1,\n",
        "    \"temperature\" : 0.5,\n",
        "}\n",
        "\n",
        "safety_settings = {\n",
        "    \"HARASSMENT\": \"BLOCK_NONE\",\n",
        "    \"HATE\": \"BLOCK_NONE\",\n",
        "    \"SEXUAL\": \"BLOCK_NONE\",\n",
        "    \"DANGEROUS\": \"BLOCK_NONE\",\n",
        "}"
      ],
      "metadata": {
        "id": "q6aP8rBFXntc"
      },
      "execution_count": 3,
      "outputs": []
    },
    {
      "cell_type": "markdown",
      "source": [
        "Mudaram o generate pra depois"
      ],
      "metadata": {
        "id": "6fYqx5TpbyC-"
      }
    },
    {
      "cell_type": "code",
      "source": [
        "model = genai.GenerativeModel(model_name='gemini-1.0-pro',\n",
        "                              safety_settings=safety_settings,\n",
        "                              generation_config=generation_config)\n"
      ],
      "metadata": {
        "id": "l7I40J9Fb0Cm"
      },
      "execution_count": 4,
      "outputs": []
    },
    {
      "cell_type": "markdown",
      "source": [
        "Agora a execução"
      ],
      "metadata": {
        "id": "h57KB6GvcZ6n"
      }
    },
    {
      "cell_type": "code",
      "source": [
        "response = model.generate_content(\"Me dê sugestões de sorvetes alcoólicos\")\n",
        "print (response.text)"
      ],
      "metadata": {
        "colab": {
          "base_uri": "https://localhost:8080/",
          "height": 520
        },
        "id": "i8l28kaNcZoE",
        "outputId": "52f6ccfa-3009-4bbe-f3f8-0b00c9dce80b"
      },
      "execution_count": 16,
      "outputs": [
        {
          "output_type": "stream",
          "name": "stdout",
          "text": [
            "**Sorvetes de Cerveja:**\n",
            "\n",
            "* Sorvete de Stout de Chocolate\n",
            "* Sorvete de Pale Ale de Lúpulo\n",
            "* Sorvete de Cerveja de Gengibre\n",
            "\n",
            "**Sorvetes de Vinho:**\n",
            "\n",
            "* Sorvete de Cabernet Sauvignon\n",
            "* Sorvete de Pinot Noir\n",
            "* Sorvete de Prosecco\n",
            "\n",
            "**Sorvetes de Licor:**\n",
            "\n",
            "* Sorvete de Baunilha com Bourbon\n",
            "* Sorvete de Chocolate com Rum\n",
            "* Sorvete de Limão com Vodka\n",
            "\n",
            "**Sorvetes de Coquetéis:**\n",
            "\n",
            "* Sorvete de Mojito\n",
            "* Sorvete de Piña Colada\n",
            "* Sorvete de Margarita\n",
            "\n",
            "**Outros Sorvetes Alcoólicos:**\n",
            "\n",
            "* Sorvete de Limoncello\n",
            "* Sorvete de Amarula\n",
            "* Sorvete de Licor de Café\n"
          ]
        }
      ]
    },
    {
      "cell_type": "markdown",
      "source": [
        "Teste feito, entra o programa"
      ],
      "metadata": {
        "id": "HbanblhdiXxF"
      }
    },
    {
      "cell_type": "code",
      "source": [
        "chat = model.start_chat(history=[])\n",
        "\n",
        "prompt = input(\"Diga: \")\n",
        "\n",
        "while prompt != \"fim\":\n",
        "  response = chat.send_message(prompt)\n",
        "  print(response.text)\n",
        "  prompt = input(\"manda lá: \")\n",
        "\n",
        ""
      ],
      "metadata": {
        "colab": {
          "base_uri": "https://localhost:8080/",
          "height": 462
        },
        "id": "fErXrWWkiaH8",
        "outputId": "4ac952c7-19d5-45ef-a519-1883b2b0ce38"
      },
      "execution_count": 5,
      "outputs": [
        {
          "output_type": "stream",
          "name": "stdout",
          "text": [
            "Diga: qual nome eu falei?\n",
            "Você não forneceu nenhuma informação sobre um nome que você falou, portanto, não posso responder a essa pergunta.\n",
            "manda lá: Ah tá\n",
            "Sem problemas! Se você tiver alguma outra dúvida ou precisar de ajuda com outra coisa, fique à vontade para perguntar.\n"
          ]
        },
        {
          "output_type": "error",
          "ename": "KeyboardInterrupt",
          "evalue": "Interrupted by user",
          "traceback": [
            "\u001b[0;31m---------------------------------------------------------------------------\u001b[0m",
            "\u001b[0;31mKeyboardInterrupt\u001b[0m                         Traceback (most recent call last)",
            "\u001b[0;32m<ipython-input-5-2d96f9778944>\u001b[0m in \u001b[0;36m<cell line: 5>\u001b[0;34m()\u001b[0m\n\u001b[1;32m      6\u001b[0m   \u001b[0mresponse\u001b[0m \u001b[0;34m=\u001b[0m \u001b[0mchat\u001b[0m\u001b[0;34m.\u001b[0m\u001b[0msend_message\u001b[0m\u001b[0;34m(\u001b[0m\u001b[0mprompt\u001b[0m\u001b[0;34m)\u001b[0m\u001b[0;34m\u001b[0m\u001b[0;34m\u001b[0m\u001b[0m\n\u001b[1;32m      7\u001b[0m   \u001b[0mprint\u001b[0m\u001b[0;34m(\u001b[0m\u001b[0mresponse\u001b[0m\u001b[0;34m.\u001b[0m\u001b[0mtext\u001b[0m\u001b[0;34m)\u001b[0m\u001b[0;34m\u001b[0m\u001b[0;34m\u001b[0m\u001b[0m\n\u001b[0;32m----> 8\u001b[0;31m   \u001b[0mprompt\u001b[0m \u001b[0;34m=\u001b[0m \u001b[0minput\u001b[0m\u001b[0;34m(\u001b[0m\u001b[0;34m\"manda lá: \"\u001b[0m\u001b[0;34m)\u001b[0m\u001b[0;34m\u001b[0m\u001b[0;34m\u001b[0m\u001b[0m\n\u001b[0m\u001b[1;32m      9\u001b[0m \u001b[0;34m\u001b[0m\u001b[0m\n\u001b[1;32m     10\u001b[0m \u001b[0;34m\u001b[0m\u001b[0m\n",
            "\u001b[0;32m/usr/local/lib/python3.10/dist-packages/ipykernel/kernelbase.py\u001b[0m in \u001b[0;36mraw_input\u001b[0;34m(self, prompt)\u001b[0m\n\u001b[1;32m    849\u001b[0m                 \u001b[0;34m\"raw_input was called, but this frontend does not support input requests.\"\u001b[0m\u001b[0;34m\u001b[0m\u001b[0;34m\u001b[0m\u001b[0m\n\u001b[1;32m    850\u001b[0m             )\n\u001b[0;32m--> 851\u001b[0;31m         return self._input_request(str(prompt),\n\u001b[0m\u001b[1;32m    852\u001b[0m             \u001b[0mself\u001b[0m\u001b[0;34m.\u001b[0m\u001b[0m_parent_ident\u001b[0m\u001b[0;34m,\u001b[0m\u001b[0;34m\u001b[0m\u001b[0;34m\u001b[0m\u001b[0m\n\u001b[1;32m    853\u001b[0m             \u001b[0mself\u001b[0m\u001b[0;34m.\u001b[0m\u001b[0m_parent_header\u001b[0m\u001b[0;34m,\u001b[0m\u001b[0;34m\u001b[0m\u001b[0;34m\u001b[0m\u001b[0m\n",
            "\u001b[0;32m/usr/local/lib/python3.10/dist-packages/ipykernel/kernelbase.py\u001b[0m in \u001b[0;36m_input_request\u001b[0;34m(self, prompt, ident, parent, password)\u001b[0m\n\u001b[1;32m    893\u001b[0m             \u001b[0;32mexcept\u001b[0m \u001b[0mKeyboardInterrupt\u001b[0m\u001b[0;34m:\u001b[0m\u001b[0;34m\u001b[0m\u001b[0;34m\u001b[0m\u001b[0m\n\u001b[1;32m    894\u001b[0m                 \u001b[0;31m# re-raise KeyboardInterrupt, to truncate traceback\u001b[0m\u001b[0;34m\u001b[0m\u001b[0;34m\u001b[0m\u001b[0m\n\u001b[0;32m--> 895\u001b[0;31m                 \u001b[0;32mraise\u001b[0m \u001b[0mKeyboardInterrupt\u001b[0m\u001b[0;34m(\u001b[0m\u001b[0;34m\"Interrupted by user\"\u001b[0m\u001b[0;34m)\u001b[0m \u001b[0;32mfrom\u001b[0m \u001b[0;32mNone\u001b[0m\u001b[0;34m\u001b[0m\u001b[0;34m\u001b[0m\u001b[0m\n\u001b[0m\u001b[1;32m    896\u001b[0m             \u001b[0;32mexcept\u001b[0m \u001b[0mException\u001b[0m \u001b[0;32mas\u001b[0m \u001b[0me\u001b[0m\u001b[0;34m:\u001b[0m\u001b[0;34m\u001b[0m\u001b[0;34m\u001b[0m\u001b[0m\n\u001b[1;32m    897\u001b[0m                 \u001b[0mself\u001b[0m\u001b[0;34m.\u001b[0m\u001b[0mlog\u001b[0m\u001b[0;34m.\u001b[0m\u001b[0mwarning\u001b[0m\u001b[0;34m(\u001b[0m\u001b[0;34m\"Invalid Message:\"\u001b[0m\u001b[0;34m,\u001b[0m \u001b[0mexc_info\u001b[0m\u001b[0;34m=\u001b[0m\u001b[0;32mTrue\u001b[0m\u001b[0;34m)\u001b[0m\u001b[0;34m\u001b[0m\u001b[0;34m\u001b[0m\u001b[0m\n",
            "\u001b[0;31mKeyboardInterrupt\u001b[0m: Interrupted by user"
          ]
        }
      ]
    }
  ]
}